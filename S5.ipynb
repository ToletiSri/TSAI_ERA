{
 "cells": [
  {
   "cell_type": "markdown",
   "metadata": {},
   "source": [
    "# TSAI Assignment 5"
   ]
  },
  {
   "cell_type": "code",
   "execution_count": 1,
   "metadata": {
    "id": "6PlbomWY3RSq"
   },
   "outputs": [],
   "source": [
    "from utils import torch,nn,F,optim,datasets,transforms\n",
    "import utils\n",
    "import model"
   ]
  },
  {
   "cell_type": "markdown",
   "metadata": {
    "id": "3UHq59Sw6tmW"
   },
   "source": [
    "Create Train and test Transforms - use utils module"
   ]
  },
  {
   "cell_type": "code",
   "execution_count": 2,
   "metadata": {
    "id": "KpshQ2Ug38m2"
   },
   "outputs": [],
   "source": [
    "# Data transformation parameters\n",
    "centerCrop = 22\n",
    "resize = 28\n",
    "randomRotate = 15.\n",
    "mean = 0.1307\n",
    "std_dev = 0.3081\n",
    "\n",
    "#Get train data transformation\n",
    "train_transforms = utils.getTrainTransforms(centerCrop, resize, randomRotate,mean,std_dev)\n",
    "\n",
    "#Get Test data transformations\n",
    "test_transforms = utils.getTestTransforms(mean,std_dev)"
   ]
  },
  {
   "cell_type": "markdown",
   "metadata": {
    "id": "zQm17pM46zHL"
   },
   "source": [
    "Get the MNIST data - train dataset and test dataset"
   ]
  },
  {
   "cell_type": "code",
   "execution_count": 4,
   "metadata": {
    "colab": {
     "base_uri": "https://localhost:8080/"
    },
    "id": "JB79ZYW13-AO",
    "outputId": "f375e7e7-b967-4ca5-cfad-a816b8f58a8a"
   },
   "outputs": [],
   "source": [
    "train_data = datasets.MNIST('../data', train=True, download=True, transform=train_transforms)\n",
    "test_data = datasets.MNIST('../data', train=False, download=True, transform=test_transforms)"
   ]
  },
  {
   "cell_type": "markdown",
   "metadata": {
    "id": "_PKSHxto6116"
   },
   "source": [
    "Get the train_loader and test_loader -  batches of data used in model training/testing"
   ]
  },
  {
   "cell_type": "code",
   "execution_count": 6,
   "metadata": {
    "id": "avCKK1uL4A68"
   },
   "outputs": [],
   "source": [
    "batch_size = 512\n",
    "\n",
    "kwargs = {'batch_size': batch_size, 'shuffle': True, 'num_workers': 2, 'pin_memory': True}\n",
    "\n",
    "train_loader = torch.utils.data.DataLoader(train_data, **kwargs)\n",
    "test_loader = torch.utils.data.DataLoader(test_data, **kwargs)"
   ]
  },
  {
   "cell_type": "code",
   "execution_count": 19,
   "metadata": {},
   "outputs": [
    {
     "data": {
      "text/plain": [
       "list"
      ]
     },
     "execution_count": 19,
     "metadata": {},
     "output_type": "execute_result"
    }
   ],
   "source": [
    "type(train_acc)\n"
   ]
  },
  {
   "cell_type": "markdown",
   "metadata": {
    "id": "Hi_0rfq56-29"
   },
   "source": [
    "Plot some train data to make sure the loading is correct"
   ]
  },
  {
   "cell_type": "code",
   "execution_count": 7,
   "metadata": {
    "colab": {
     "base_uri": "https://localhost:8080/",
     "height": 463
    },
    "id": "Hx7QkLcw4Epc",
    "outputId": "f300f2b7-1a0a-4a67-d541-fe8b9c525b86"
   },
   "outputs": [
    {
     "data": {
      "image/png": "[encoded data removed]",
      "text/plain": [
       "<Figure size 640x480 with 12 Axes>"
      ]
     },
     "metadata": {},
     "output_type": "display_data"
    }
   ],
   "source": [
    "utils.plotData(train_loader, 12, 'gray')"
   ]
  },
  {
   "cell_type": "markdown",
   "metadata": {
    "id": "y3XbVJSb7Aee"
   },
   "source": [
    "Creating the first model, from the module - model"
   ]
  },
  {
   "cell_type": "code",
   "execution_count": 8,
   "metadata": {
    "id": "UHBolvMH4F8y"
   },
   "outputs": [],
   "source": [
    "myFirstModel = model.getModel()"
   ]
  },
  {
   "cell_type": "markdown",
   "metadata": {},
   "source": [
    "Print the model summary to know your model"
   ]
  },
  {
   "cell_type": "code",
   "execution_count": 9,
   "metadata": {},
   "outputs": [
    {
     "name": "stdout",
     "output_type": "stream",
     "text": [
      "----------------------------------------------------------------\n",
      "        Layer (type)               Output Shape         Param #\n",
      "================================================================\n",
      "            Conv2d-1           [-1, 32, 26, 26]             320\n",
      "            Conv2d-2           [-1, 64, 24, 24]          18,496\n",
      "            Conv2d-3          [-1, 128, 10, 10]          73,856\n",
      "            Conv2d-4            [-1, 256, 8, 8]         295,168\n",
      "            Linear-5                   [-1, 50]         204,850\n",
      "            Linear-6                   [-1, 10]             510\n",
      "================================================================\n",
      "Total params: 593,200\n",
      "Trainable params: 593,200\n",
      "Non-trainable params: 0\n",
      "----------------------------------------------------------------\n",
      "Input size (MB): 0.00\n",
      "Forward/backward pass size (MB): 0.67\n",
      "Params size (MB): 2.26\n",
      "Estimated Total Size (MB): 2.94\n",
      "----------------------------------------------------------------\n"
     ]
    }
   ],
   "source": [
    "utils.printModelSummary(myFirstModel,(1, 28, 28))"
   ]
  },
  {
   "cell_type": "code",
   "execution_count": 10,
   "metadata": {
    "id": "7du4zM474LvT"
   },
   "outputs": [],
   "source": [
    "# Data to plot accuracy and loss graphs\n",
    "train_losses = []\n",
    "test_losses = []\n",
    "train_acc = []\n",
    "test_acc = []\n",
    "\n",
    "test_incorrect_pred = {'images': [], 'ground_truths': [], 'predicted_vals': []}"
   ]
  },
  {
   "cell_type": "markdown",
   "metadata": {
    "id": "89gd4_s7AO2y"
   },
   "source": [
    "Train and test your model for mutiple epochs"
   ]
  },
  {
   "cell_type": "code",
   "execution_count": 13,
   "metadata": {
    "colab": {
     "base_uri": "https://localhost:8080/"
    },
    "id": "Owqiet9M4TV7",
    "outputId": "f5c847c7-642b-4773-becf-70168897809e"
   },
   "outputs": [
    {
     "name": "stdout",
     "output_type": "stream",
     "text": [
      "Adjusting learning rate of group 0 to 1.0000e-02.\n",
      "Epoch 1\n"
     ]
    },
    {
     "name": "stderr",
     "output_type": "stream",
     "text": [
      "Train: Loss=1.8184 Batch_id=117 Accuracy=26.71: 100%|████████████████████████████████| 118/118 [00:19<00:00,  6.02it/s]\n"
     ]
    },
    {
     "name": "stdout",
     "output_type": "stream",
     "text": [
      "Test set: Average loss: 1.7668, Accuracy: 3573/10000 (35.73%)\n",
      "\n",
      "Adjusting learning rate of group 0 to 1.0000e-02.\n",
      "Epoch 2\n"
     ]
    },
    {
     "name": "stderr",
     "output_type": "stream",
     "text": [
      "Train: Loss=0.1122 Batch_id=117 Accuracy=81.82: 100%|████████████████████████████████| 118/118 [00:12<00:00,  9.14it/s]\n"
     ]
    },
    {
     "name": "stdout",
     "output_type": "stream",
     "text": [
      "Test set: Average loss: 0.1350, Accuracy: 9605/10000 (96.05%)\n",
      "\n",
      "Adjusting learning rate of group 0 to 1.0000e-02.\n",
      "Epoch 3\n"
     ]
    },
    {
     "name": "stderr",
     "output_type": "stream",
     "text": [
      "Train: Loss=0.1139 Batch_id=117 Accuracy=94.72: 100%|████████████████████████████████| 118/118 [00:12<00:00,  9.32it/s]\n"
     ]
    },
    {
     "name": "stdout",
     "output_type": "stream",
     "text": [
      "Test set: Average loss: 0.0896, Accuracy: 9728/10000 (97.28%)\n",
      "\n",
      "Adjusting learning rate of group 0 to 1.0000e-02.\n",
      "Epoch 4\n"
     ]
    },
    {
     "name": "stderr",
     "output_type": "stream",
     "text": [
      "Train: Loss=0.0834 Batch_id=117 Accuracy=96.13: 100%|████████████████████████████████| 118/118 [00:12<00:00,  9.33it/s]\n"
     ]
    },
    {
     "name": "stdout",
     "output_type": "stream",
     "text": [
      "Test set: Average loss: 0.0620, Accuracy: 9799/10000 (97.99%)\n",
      "\n",
      "Adjusting learning rate of group 0 to 1.0000e-02.\n",
      "Epoch 5\n"
     ]
    },
    {
     "name": "stderr",
     "output_type": "stream",
     "text": [
      "Train: Loss=0.0487 Batch_id=117 Accuracy=96.93: 100%|████████████████████████████████| 118/118 [00:13<00:00,  9.00it/s]\n"
     ]
    },
    {
     "name": "stdout",
     "output_type": "stream",
     "text": [
      "Test set: Average loss: 0.0523, Accuracy: 9835/10000 (98.35%)\n",
      "\n",
      "Adjusting learning rate of group 0 to 1.0000e-02.\n",
      "Epoch 6\n"
     ]
    },
    {
     "name": "stderr",
     "output_type": "stream",
     "text": [
      "Train: Loss=0.0334 Batch_id=117 Accuracy=97.45: 100%|████████████████████████████████| 118/118 [00:13<00:00,  8.88it/s]\n"
     ]
    },
    {
     "name": "stdout",
     "output_type": "stream",
     "text": [
      "Test set: Average loss: 0.0457, Accuracy: 9859/10000 (98.59%)\n",
      "\n",
      "Adjusting learning rate of group 0 to 1.0000e-02.\n",
      "Epoch 7\n"
     ]
    },
    {
     "name": "stderr",
     "output_type": "stream",
     "text": [
      "Train: Loss=0.1153 Batch_id=117 Accuracy=97.61: 100%|████████████████████████████████| 118/118 [00:13<00:00,  8.51it/s]\n"
     ]
    },
    {
     "name": "stdout",
     "output_type": "stream",
     "text": [
      "Test set: Average loss: 0.0464, Accuracy: 9854/10000 (98.54%)\n",
      "\n",
      "Adjusting learning rate of group 0 to 1.0000e-02.\n",
      "Epoch 8\n"
     ]
    },
    {
     "name": "stderr",
     "output_type": "stream",
     "text": [
      "Train: Loss=0.0735 Batch_id=117 Accuracy=97.83: 100%|████████████████████████████████| 118/118 [00:13<00:00,  8.70it/s]\n"
     ]
    },
    {
     "name": "stdout",
     "output_type": "stream",
     "text": [
      "Test set: Average loss: 0.0380, Accuracy: 9880/10000 (98.80%)\n",
      "\n",
      "Adjusting learning rate of group 0 to 1.0000e-02.\n",
      "Epoch 9\n"
     ]
    },
    {
     "name": "stderr",
     "output_type": "stream",
     "text": [
      "Train: Loss=0.0741 Batch_id=117 Accuracy=98.12: 100%|████████████████████████████████| 118/118 [00:13<00:00,  9.00it/s]\n"
     ]
    },
    {
     "name": "stdout",
     "output_type": "stream",
     "text": [
      "Test set: Average loss: 0.0387, Accuracy: 9870/10000 (98.70%)\n",
      "\n",
      "Adjusting learning rate of group 0 to 1.0000e-02.\n",
      "Epoch 10\n"
     ]
    },
    {
     "name": "stderr",
     "output_type": "stream",
     "text": [
      "Train: Loss=0.0540 Batch_id=117 Accuracy=98.20: 100%|████████████████████████████████| 118/118 [00:14<00:00,  8.39it/s]\n"
     ]
    },
    {
     "name": "stdout",
     "output_type": "stream",
     "text": [
      "Test set: Average loss: 0.0388, Accuracy: 9877/10000 (98.77%)\n",
      "\n",
      "Adjusting learning rate of group 0 to 1.0000e-02.\n",
      "Epoch 11\n"
     ]
    },
    {
     "name": "stderr",
     "output_type": "stream",
     "text": [
      "Train: Loss=0.0196 Batch_id=117 Accuracy=98.34: 100%|████████████████████████████████| 118/118 [00:13<00:00,  8.72it/s]\n"
     ]
    },
    {
     "name": "stdout",
     "output_type": "stream",
     "text": [
      "Test set: Average loss: 0.0446, Accuracy: 9858/10000 (98.58%)\n",
      "\n",
      "Adjusting learning rate of group 0 to 1.0000e-02.\n",
      "Epoch 12\n"
     ]
    },
    {
     "name": "stderr",
     "output_type": "stream",
     "text": [
      "Train: Loss=0.0096 Batch_id=117 Accuracy=98.43: 100%|████████████████████████████████| 118/118 [00:13<00:00,  8.75it/s]\n"
     ]
    },
    {
     "name": "stdout",
     "output_type": "stream",
     "text": [
      "Test set: Average loss: 0.0289, Accuracy: 9901/10000 (99.01%)\n",
      "\n",
      "Adjusting learning rate of group 0 to 1.0000e-02.\n",
      "Epoch 13\n"
     ]
    },
    {
     "name": "stderr",
     "output_type": "stream",
     "text": [
      "Train: Loss=0.0632 Batch_id=117 Accuracy=98.55: 100%|████████████████████████████████| 118/118 [00:13<00:00,  8.65it/s]\n"
     ]
    },
    {
     "name": "stdout",
     "output_type": "stream",
     "text": [
      "Test set: Average loss: 0.0261, Accuracy: 9916/10000 (99.16%)\n",
      "\n",
      "Adjusting learning rate of group 0 to 1.0000e-02.\n",
      "Epoch 14\n"
     ]
    },
    {
     "name": "stderr",
     "output_type": "stream",
     "text": [
      "Train: Loss=0.0085 Batch_id=117 Accuracy=98.55: 100%|████████████████████████████████| 118/118 [00:13<00:00,  8.85it/s]\n"
     ]
    },
    {
     "name": "stdout",
     "output_type": "stream",
     "text": [
      "Test set: Average loss: 0.0253, Accuracy: 9920/10000 (99.20%)\n",
      "\n",
      "Adjusting learning rate of group 0 to 1.0000e-02.\n",
      "Epoch 15\n"
     ]
    },
    {
     "name": "stderr",
     "output_type": "stream",
     "text": [
      "Train: Loss=0.0291 Batch_id=117 Accuracy=98.56: 100%|████████████████████████████████| 118/118 [00:13<00:00,  8.90it/s]\n"
     ]
    },
    {
     "name": "stdout",
     "output_type": "stream",
     "text": [
      "Test set: Average loss: 0.0249, Accuracy: 9922/10000 (99.22%)\n",
      "\n",
      "Adjusting learning rate of group 0 to 1.0000e-03.\n",
      "Epoch 16\n"
     ]
    },
    {
     "name": "stderr",
     "output_type": "stream",
     "text": [
      "Train: Loss=0.0218 Batch_id=117 Accuracy=98.86: 100%|████████████████████████████████| 118/118 [00:15<00:00,  7.62it/s]\n"
     ]
    },
    {
     "name": "stdout",
     "output_type": "stream",
     "text": [
      "Test set: Average loss: 0.0223, Accuracy: 9924/10000 (99.24%)\n",
      "\n",
      "Adjusting learning rate of group 0 to 1.0000e-03.\n",
      "Epoch 17\n"
     ]
    },
    {
     "name": "stderr",
     "output_type": "stream",
     "text": [
      "Train: Loss=0.0526 Batch_id=117 Accuracy=98.98: 100%|████████████████████████████████| 118/118 [00:13<00:00,  8.66it/s]\n"
     ]
    },
    {
     "name": "stdout",
     "output_type": "stream",
     "text": [
      "Test set: Average loss: 0.0223, Accuracy: 9925/10000 (99.25%)\n",
      "\n",
      "Adjusting learning rate of group 0 to 1.0000e-03.\n",
      "Epoch 18\n"
     ]
    },
    {
     "name": "stderr",
     "output_type": "stream",
     "text": [
      "Train: Loss=0.0118 Batch_id=117 Accuracy=98.98: 100%|████████████████████████████████| 118/118 [00:13<00:00,  8.51it/s]\n"
     ]
    },
    {
     "name": "stdout",
     "output_type": "stream",
     "text": [
      "Test set: Average loss: 0.0224, Accuracy: 9926/10000 (99.26%)\n",
      "\n",
      "Adjusting learning rate of group 0 to 1.0000e-03.\n",
      "Epoch 19\n"
     ]
    },
    {
     "name": "stderr",
     "output_type": "stream",
     "text": [
      "Train: Loss=0.0133 Batch_id=117 Accuracy=98.97: 100%|████████████████████████████████| 118/118 [00:13<00:00,  8.76it/s]\n"
     ]
    },
    {
     "name": "stdout",
     "output_type": "stream",
     "text": [
      "Test set: Average loss: 0.0223, Accuracy: 9922/10000 (99.22%)\n",
      "\n",
      "Adjusting learning rate of group 0 to 1.0000e-03.\n",
      "Epoch 20\n"
     ]
    },
    {
     "name": "stderr",
     "output_type": "stream",
     "text": [
      "Train: Loss=0.0070 Batch_id=117 Accuracy=99.02: 100%|████████████████████████████████| 118/118 [00:13<00:00,  8.65it/s]\n"
     ]
    },
    {
     "name": "stdout",
     "output_type": "stream",
     "text": [
      "Test set: Average loss: 0.0219, Accuracy: 9921/10000 (99.21%)\n",
      "\n",
      "Adjusting learning rate of group 0 to 1.0000e-03.\n"
     ]
    }
   ],
   "source": [
    "optimizer = optim.SGD(myFirstModel.parameters(), lr=0.01, momentum=0.9)\n",
    "scheduler = optim.lr_scheduler.StepLR(optimizer, step_size=15, gamma=0.1, verbose=True)\n",
    "# New Line\n",
    "criterion = F.nll_loss\n",
    "num_epochs = 20\n",
    "\n",
    "for epoch in range(1, num_epochs+1):\n",
    "  print(f'Epoch {epoch}')\n",
    "  tr_Acc, tr_loss = utils.train(myFirstModel, train_loader, optimizer, criterion)\n",
    "  tst_acc, tst_loss = utils.test(myFirstModel, test_loader, criterion)\n",
    "  train_acc.append(tr_Acc)\n",
    "  train_losses.append(tr_loss)\n",
    "  test_acc.append(tst_acc)\n",
    "  test_losses.append(tst_loss)\n",
    "  scheduler.step()"
   ]
  },
  {
   "cell_type": "markdown",
   "metadata": {
    "id": "B-LM-Z1k6FcF"
   },
   "source": [
    "Plot the train and test accuracy"
   ]
  },
  {
   "cell_type": "code",
   "execution_count": 14,
   "metadata": {
    "colab": {
     "base_uri": "https://localhost:8080/",
     "height": 871
    },
    "id": "Wu0l7dli4eC9",
    "outputId": "cd1fcdab-0c0f-41dc-d1c9-6b80f9eb7915"
   },
   "outputs": [
    {
     "data": {
      "image/png": "[encoded data removed]",
      "text/plain": [
       "<Figure size 1500x1000 with 4 Axes>"
      ]
     },
     "metadata": {},
     "output_type": "display_data"
    }
   ],
   "source": [
    "utils.printModelTrainTestAccuracy(train_acc, train_losses, test_acc, test_losses)"
   ]
  },
  {
   "cell_type": "code",
   "execution_count": null,
   "metadata": {},
   "outputs": [],
   "source": []
  }
 ],
 "metadata": {
  "accelerator": "GPU",
  "colab": {
   "gpuType": "T4",
   "provenance": []
  },
  "gpuClass": "standard",
  "kernelspec": {
   "display_name": "Python 3 (ipykernel)",
   "language": "python",
   "name": "python3"
  },
  "language_info": {
   "codemirror_mode": {
    "name": "ipython",
    "version": 3
   },
   "file_extension": ".py",
   "mimetype": "text/x-python",
   "name": "python",
   "nbconvert_exporter": "python",
   "pygments_lexer": "ipython3",
   "version": "3.11.3"
  }
 },
 "nbformat": 4,
 "nbformat_minor": 1
}
